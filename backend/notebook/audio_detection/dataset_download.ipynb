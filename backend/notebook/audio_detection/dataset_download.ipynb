{
 "cells": [
  {
   "cell_type": "code",
   "execution_count": 4,
   "metadata": {},
   "outputs": [],
   "source": [
    "# %pip install uv\n",
    "# %pip install kaggle"
   ]
  },
  {
   "cell_type": "code",
   "execution_count": 5,
   "metadata": {},
   "outputs": [],
   "source": [
    "import os\n",
    "\n",
    "kaggle_dir = os.path.expanduser(\"~/.kaggle\")\n",
    "os.makedirs(kaggle_dir, exist_ok=True)\n",
    "\n",
    "with open(f\"{kaggle_dir}/kaggle.json\", \"w\") as f:\n",
    "    f.write('{\"username\":\"your_username\",\"key\":\"your_api_key\"}')\n",
    "\n",
    "# Set permissions\n",
    "os.chmod(f\"{kaggle_dir}/kaggle.json\", 0o600)"
   ]
  },
  {
   "cell_type": "code",
   "execution_count": null,
   "metadata": {},
   "outputs": [],
   "source": [
    "# import subprocess\n",
    "# import os\n",
    "\n",
    "# # Download command\n",
    "# cmd = [\n",
    "#     \"kaggle\",\n",
    "#     \"datasets\",\n",
    "#     \"download\",\n",
    "#     \"-d\", \"abdallamohamed312/asv-2021-pa-pt12-into-real-and-fake\",\n",
    "#     \"-p\", \"/teamspace/studios/this_studio\",\n",
    "#     \"--unzip\"  # Automatically unzip the downloaded file\n",
    "# ]\n",
    "\n",
    "# # Run the command\n",
    "# subprocess.run(cmd, check=True)"
   ]
  },
  {
   "cell_type": "code",
   "execution_count": null,
   "metadata": {},
   "outputs": [],
   "source": [
    "# # Download the dataset\n",
    "# kaggle datasets download -d abdallamohamed312/asv-2021-pa-pt12-into-real-and-fake -p /teamspace/studios/this_studio/audio_detect/dataset\n",
    "\n",
    "# # Unzip the dataset\n",
    "# unzip /teamspace/studios/this_studio/asv-2021-pa-pt12-into-real-and-fake.zip -d /teamspace/studios/this_studio/audio_detect/dataset/"
   ]
  },
  {
   "cell_type": "code",
   "execution_count": 2,
   "metadata": {},
   "outputs": [
    {
     "name": "stdout",
     "output_type": "stream",
     "text": [
      "Downloading from https://www.kaggle.com/api/v1/datasets/download/abdallamohamed312/ready-to-input-for-training?dataset_version_number=1...\n"
     ]
    },
    {
     "name": "stderr",
     "output_type": "stream",
     "text": [
      "100%|██████████| 4.85G/4.85G [00:40<00:00, 128MB/s] "
     ]
    },
    {
     "name": "stdout",
     "output_type": "stream",
     "text": [
      "Extracting files...\n"
     ]
    },
    {
     "name": "stderr",
     "output_type": "stream",
     "text": [
      "\n"
     ]
    },
    {
     "name": "stdout",
     "output_type": "stream",
     "text": [
      "Path to dataset files: /teamspace/studios/this_studio/.cache/kagglehub/datasets/abdallamohamed312/ready-to-input-for-training/versions/1\n"
     ]
    }
   ],
   "source": [
    "# %uv pip install kagglehub\n",
    "import kagglehub\n",
    "\n",
    "# Download latest version\n",
    "path = kagglehub.dataset_download(\"abdallamohamed312/ready-to-input-for-training\")\n",
    "\n",
    "print(\"Path to dataset files:\", path)"
   ]
  },
  {
   "cell_type": "code",
   "execution_count": 3,
   "metadata": {},
   "outputs": [],
   "source": [
    "!mv /teamspace/studios/this_studio/.cache/kagglehub/datasets/abdallamohamed312/ready-to-input-for-training/versions/1/* /teamspace/studios/this_studio/audio_detect/dataset/"
   ]
  },
  {
   "cell_type": "code",
   "execution_count": 4,
   "metadata": {},
   "outputs": [
    {
     "name": "stdout",
     "output_type": "stream",
     "text": [
      "Downloading from https://www.kaggle.com/api/v1/datasets/download/walimuhammadahmad/fakeaudio?dataset_version_number=1...\n"
     ]
    },
    {
     "name": "stderr",
     "output_type": "stream",
     "text": [
      "100%|██████████| 26.9G/26.9G [03:36<00:00, 133MB/s] "
     ]
    },
    {
     "name": "stdout",
     "output_type": "stream",
     "text": [
      "Extracting files...\n"
     ]
    },
    {
     "name": "stderr",
     "output_type": "stream",
     "text": [
      "\n"
     ]
    },
    {
     "name": "stdout",
     "output_type": "stream",
     "text": [
      "Downloading from https://www.kaggle.com/api/v1/datasets/download/birdy654/deep-voice-deepfake-voice-recognition?dataset_version_number=2...\n"
     ]
    },
    {
     "name": "stderr",
     "output_type": "stream",
     "text": [
      "100%|██████████| 3.69G/3.69G [00:24<00:00, 159MB/s] "
     ]
    },
    {
     "name": "stdout",
     "output_type": "stream",
     "text": [
      "Extracting files...\n"
     ]
    },
    {
     "name": "stderr",
     "output_type": "stream",
     "text": [
      "\n"
     ]
    },
    {
     "name": "stdout",
     "output_type": "stream",
     "text": [
      "Downloading from https://www.kaggle.com/api/v1/datasets/download/mohammedabdeldayem/the-fake-or-real-dataset?dataset_version_number=2...\n"
     ]
    },
    {
     "name": "stderr",
     "output_type": "stream",
     "text": [
      "100%|██████████| 16.0G/16.0G [02:23<00:00, 120MB/s] "
     ]
    },
    {
     "name": "stdout",
     "output_type": "stream",
     "text": [
      "Extracting files...\n"
     ]
    },
    {
     "name": "stderr",
     "output_type": "stream",
     "text": [
      "\n"
     ]
    },
    {
     "name": "stdout",
     "output_type": "stream",
     "text": [
      "Downloading from https://www.kaggle.com/api/v1/datasets/download/mohammedabdeldayem/scenefake?dataset_version_number=1...\n"
     ]
    },
    {
     "name": "stderr",
     "output_type": "stream",
     "text": [
      "100%|██████████| 5.37G/5.37G [00:49<00:00, 117MB/s] "
     ]
    },
    {
     "name": "stdout",
     "output_type": "stream",
     "text": [
      "Extracting files...\n"
     ]
    },
    {
     "name": "stderr",
     "output_type": "stream",
     "text": [
      "\n"
     ]
    }
   ],
   "source": [
    "import kagglehub\n",
    "\n",
    "# Download datasets\n",
    "path1 = kagglehub.dataset_download(\"walimuhammadahmad/fakeaudio\")\n",
    "path2 = kagglehub.dataset_download(\"birdy654/deep-voice-deepfake-voice-recognition\")\n",
    "path3 = kagglehub.dataset_download(\"mohammedabdeldayem/the-fake-or-real-dataset\")\n",
    "path4 = kagglehub.dataset_download(\"mohammedabdeldayem/scenefake\")"
   ]
  },
  {
   "cell_type": "code",
   "execution_count": 5,
   "metadata": {},
   "outputs": [],
   "source": [
    "import os\n",
    "import shutil\n",
    "\n",
    "# Set your destination folder\n",
    "destination_folder = \"/teamspace/studios/this_studio/audio_detect/dataset\"\n",
    "os.makedirs(destination_folder, exist_ok=True)\n",
    "\n",
    "# Define paths from where data should be moved\n",
    "download_paths = [path1, path2, path3, path4]\n",
    "\n",
    "# Move files from each path to the destination\n",
    "for path in download_paths:\n",
    "    src_folder = path\n",
    "    for item in os.listdir(src_folder):\n",
    "        s = os.path.join(src_folder, item)\n",
    "        d = os.path.join(destination_folder, item)\n",
    "        shutil.move(s, d)"
   ]
  },
  {
   "cell_type": "code",
   "execution_count": null,
   "metadata": {},
   "outputs": [],
   "source": []
  }
 ],
 "metadata": {
  "language_info": {
   "name": "python"
  }
 },
 "nbformat": 4,
 "nbformat_minor": 2
}
