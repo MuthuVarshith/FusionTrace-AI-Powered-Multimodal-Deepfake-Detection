{
 "cells": [
  {
   "cell_type": "code",
   "execution_count": 1,
   "metadata": {},
   "outputs": [],
   "source": [
    "import os\n",
    "os.environ[\"PYTORCH_CUDA_ALLOC_CONF\"] = \"expandable_segments:True\"\n",
    "import torch\n",
    "import torchaudio\n",
    "import numpy as np\n",
    "from torch import nn\n",
    "from torch.utils.data import Dataset, DataLoader\n",
    "from pathlib import Path\n",
    "from transformers import Wav2Vec2Processor, Wav2Vec2ForSequenceClassification\n",
    "from sklearn.metrics import accuracy_score, f1_score\n",
    "from tqdm import tqdm\n",
    "import matplotlib.pyplot as plt\n",
    "from torch.amp import GradScaler, autocast\n",
    "\n",
    "class AudioDeepfakeDataset(Dataset):\n",
    "    def __init__(self, data_dirs, sample_rate=16000, max_length=4.0):\n",
    "        self.data_dirs = data_dirs\n",
    "        self.sample_rate = sample_rate\n",
    "        self.max_length = max_length\n",
    "        self.max_samples = int(max_length * sample_rate)\n",
    "        \n",
    "        self.audio_files = []\n",
    "        self.labels = []\n",
    "        \n",
    "        for data_dir in data_dirs:\n",
    "            data_dir = Path(data_dir)\n",
    "            label = 0 if 'real' in data_dir.name.lower() else 1\n",
    "            for audio_file in data_dir.glob('*.wav'):\n",
    "                self.audio_files.append(str(audio_file))\n",
    "                self.labels.append(label)\n",
    "        \n",
    "        assert len(self.audio_files) > 0, \"No audio files found in the provided directories.\"\n",
    "    \n",
    "    def __len__(self):\n",
    "        return len(self.audio_files)\n",
    "    \n",
    "    def __getitem__(self, idx):\n",
    "        audio_path = self.audio_files[idx]\n",
    "        label = self.labels[idx]\n",
    "        \n",
    "        waveform, orig_sample_rate = torchaudio.load(audio_path)\n",
    "        \n",
    "        if orig_sample_rate != self.sample_rate:\n",
    "            resampler = torchaudio.transforms.Resample(orig_sample_rate, self.sample_rate)\n",
    "            waveform = resampler(waveform)\n",
    "        \n",
    "        if waveform.shape[0] > 1:\n",
    "            waveform = torch.mean(waveform, dim=0, keepdim=True)\n",
    "        \n",
    "        waveform = (waveform - waveform.mean()) / (waveform.std() + 1e-6)\n",
    "        \n",
    "        num_samples = waveform.shape[1]\n",
    "        if num_samples > self.max_samples:\n",
    "            waveform = waveform[:, :self.max_samples]\n",
    "        elif num_samples < self.max_samples:\n",
    "            padding = torch.zeros(1, self.max_samples - num_samples)\n",
    "            waveform = torch.cat([waveform, padding], dim=1)\n",
    "        \n",
    "        return waveform.squeeze(0), label\n",
    "\n",
    "def collate_fn(batch):\n",
    "    waveforms, labels = zip(*batch)\n",
    "    waveforms = torch.stack([wf for wf in waveforms])\n",
    "    labels = torch.tensor(labels, dtype=torch.long)\n",
    "    return waveforms, labels\n",
    "\n",
    "def get_dataloaders(train_dirs, val_dirs, test_dirs, batch_size=16, num_workers=8):\n",
    "    train_dataset = AudioDeepfakeDataset(train_dirs)\n",
    "    val_dataset = AudioDeepfakeDataset(val_dirs)\n",
    "    test_dataset = AudioDeepfakeDataset(test_dirs)\n",
    "    \n",
    "    train_loader = DataLoader(\n",
    "        train_dataset,\n",
    "        batch_size=batch_size,\n",
    "        shuffle=True,\n",
    "        num_workers=num_workers,\n",
    "        collate_fn=collate_fn,\n",
    "        pin_memory=True\n",
    "    )\n",
    "    \n",
    "    val_loader = DataLoader(\n",
    "        val_dataset,\n",
    "        batch_size=batch_size,\n",
    "        shuffle=False,\n",
    "        num_workers=num_workers,\n",
    "        collate_fn=collate_fn,\n",
    "        pin_memory=True\n",
    "    )\n",
    "    \n",
    "    test_loader = DataLoader(\n",
    "        test_dataset,\n",
    "        batch_size=batch_size,\n",
    "        shuffle=False,\n",
    "        num_workers=num_workers,\n",
    "        collate_fn=collate_fn,\n",
    "        pin_memory=True\n",
    "    )\n",
    "    \n",
    "    return train_loader, val_loader, test_loader\n",
    "\n",
    "class AudioDeepfakeModel(nn.Module):\n",
    "    def __init__(self, model_name=\"facebook/wav2vec2-base\", num_labels=2):\n",
    "        super(AudioDeepfakeModel, self).__init__()\n",
    "        self.wav2vec2 = Wav2Vec2ForSequenceClassification.from_pretrained(\n",
    "            model_name,\n",
    "            num_labels=num_labels\n",
    "        )\n",
    "        self.wav2vec2.gradient_checkpointing_enable()  # Enable gradient checkpointing\n",
    "        self.wav2vec2.wav2vec2.feature_extractor.eval()\n",
    "        for param in self.wav2vec2.wav2vec2.feature_extractor.parameters():\n",
    "            param.requires_grad = False\n",
    "    \n",
    "    def forward(self, input_values, labels=None):\n",
    "        outputs = self.wav2vec2(input_values, labels=labels)\n",
    "        return outputs\n",
    "\n",
    "def compute_metrics(labels, preds):\n",
    "    accuracy = accuracy_score(labels, preds)\n",
    "    f1 = f1_score(labels, preds, average='binary')\n",
    "    return {\"accuracy\": accuracy, \"f1\": f1}\n",
    "\n",
    "def train_model(model, train_loader, val_loader, output_dir, num_epochs=15, patience=5, accum_steps=4):\n",
    "    processor = Wav2Vec2Processor.from_pretrained(\"facebook/wav2vec2-base\")\n",
    "    device = torch.device(\"cuda\" if torch.cuda.is_available() else \"cpu\")\n",
    "    model.to(device)\n",
    "    \n",
    "    optimizer = torch.optim.AdamW(model.parameters(), lr=3e-5, weight_decay=0.01)\n",
    "    scheduler = torch.optim.lr_scheduler.LinearLR(optimizer, start_factor=0.1, total_iters=500)\n",
    "    scaler = GradScaler('cuda')\n",
    "    \n",
    "    train_losses, val_losses = [], []\n",
    "    train_accuracies, val_accuracies = [], []\n",
    "    best_f1 = 0\n",
    "    best_val_loss = float('inf')\n",
    "    epochs_no_improve = 0\n",
    "    \n",
    "    for epoch in range(num_epochs):\n",
    "        model.train()\n",
    "        train_loss, train_correct, train_total = 0, 0, 0\n",
    "        train_pbar = tqdm(train_loader, desc=f\"Epoch {epoch+1}/{num_epochs} [Train]\")\n",
    "        \n",
    "        optimizer.zero_grad()\n",
    "        for i, batch in enumerate(train_pbar):\n",
    "            waveforms, labels = batch\n",
    "            waveforms, labels = waveforms.to(device), labels.to(device)\n",
    "            \n",
    "            with autocast('cuda'):\n",
    "                outputs = model(waveforms, labels=labels)\n",
    "                loss = outputs.loss / accum_steps\n",
    "            \n",
    "            scaler.scale(loss).backward()\n",
    "            \n",
    "            if (i + 1) % accum_steps == 0 or (i + 1) == len(train_loader):\n",
    "                scaler.step(optimizer)\n",
    "                scaler.update()\n",
    "                optimizer.zero_grad()\n",
    "                scheduler.step()\n",
    "            \n",
    "            train_loss += loss.item() * accum_steps\n",
    "            preds = outputs.logits.argmax(dim=-1)\n",
    "            train_correct += (preds == labels).sum().item()\n",
    "            train_total += labels.size(0)\n",
    "            \n",
    "            train_pbar.set_postfix({\n",
    "                \"loss\": f\"{train_loss/train_total:.4f}\",\n",
    "                \"acc\": f\"{train_correct/train_total:.4f}\"\n",
    "            })\n",
    "        \n",
    "        train_loss /= len(train_loader)\n",
    "        train_accuracy = train_correct / train_total\n",
    "        train_losses.append(train_loss)\n",
    "        train_accuracies.append(train_accuracy)\n",
    "        \n",
    "        model.eval()\n",
    "        val_loss, val_correct, val_total = 0, 0, 0\n",
    "        val_preds, val_labels = [], []\n",
    "        val_pbar = tqdm(val_loader, desc=f\"Epoch {epoch+1}/{num_epochs} [Val]\")\n",
    "        \n",
    "        with torch.no_grad():\n",
    "            for batch in val_pbar:\n",
    "                waveforms, labels = batch\n",
    "                waveforms, labels = waveforms.to(device), labels.to(device)\n",
    "                \n",
    "                with autocast('cuda'):\n",
    "                    outputs = model(waveforms, labels=labels)\n",
    "                    loss = outputs.loss\n",
    "                \n",
    "                val_loss += loss.item()\n",
    "                preds = outputs.logits.argmax(dim=-1)\n",
    "                val_correct += (preds == labels).sum().item()\n",
    "                val_total += labels.size(0)\n",
    "                val_preds.extend(preds.cpu().numpy())\n",
    "                val_labels.extend(labels.cpu().numpy())\n",
    "                \n",
    "                val_pbar.set_postfix({\n",
    "                    \"loss\": f\"{val_loss/val_total:.4f}\",\n",
    "                    \"acc\": f\"{val_correct/val_total:.4f}\"\n",
    "                })\n",
    "        \n",
    "        val_loss /= len(val_loader)\n",
    "        val_accuracy = val_correct / val_total\n",
    "        val_losses.append(val_loss)\n",
    "        val_accuracies.append(val_accuracy)\n",
    "        \n",
    "        metrics = compute_metrics(val_labels, val_preds)\n",
    "        val_f1 = metrics[\"f1\"]\n",
    "        \n",
    "        if epoch == 0 or val_f1 > best_f1:\n",
    "            best_f1 = val_f1\n",
    "            model.wav2vec2.save_pretrained(os.path.join(output_dir, \"best_model\"))\n",
    "            processor.save_pretrained(os.path.join(output_dir, \"best_model\"))\n",
    "        \n",
    "        if val_loss < best_val_loss:\n",
    "            best_val_loss = val_loss\n",
    "            epochs_no_improve = 0\n",
    "        else:\n",
    "            epochs_no_improve += 1\n",
    "            if epochs_no_improve >= patience:\n",
    "                print(f\"Early stopping triggered after {epoch+1} epochs.\")\n",
    "                break\n",
    "        \n",
    "        print(f\"Epoch {epoch+1}: Train Loss: {train_loss:.4f}, Train Acc: {train_accuracy:.4f}, \"\n",
    "              f\"Val Loss: {val_loss:.4f}, Val Acc: {val_accuracy:.4f}, Val F1: {val_f1:.4f}\")\n",
    "    \n",
    "    return train_losses, train_accuracies, val_losses, val_accuracies\n",
    "\n",
    "def plot_metrics(train_losses, train_accuracies, val_losses, val_accuracies, output_dir):\n",
    "    epochs = range(1, len(train_losses) + 1)\n",
    "    \n",
    "    plt.figure(figsize=(12, 5))\n",
    "    \n",
    "    plt.subplot(1, 2, 1)\n",
    "    plt.plot(epochs, train_losses, 'b-', label='Train Loss')\n",
    "    plt.plot(epochs, val_losses, 'r-', label='Val Loss')\n",
    "    plt.title('Training and Validation Loss')\n",
    "    plt.xlabel('Epoch')\n",
    "    plt.ylabel('Loss')\n",
    "    plt.legend()\n",
    "    plt.grid(True)\n",
    "    \n",
    "    plt.subplot(1, 2, 2)\n",
    "    plt.plot(epochs, train_accuracies, 'b-', label='Train Accuracy')\n",
    "    plt.plot(epochs, val_accuracies, 'r-', label='Val Accuracy')\n",
    "    plt.title('Training and Validation Accuracy')\n",
    "    plt.xlabel('Epoch')\n",
    "    plt.ylabel('Accuracy')\n",
    "    plt.legend()\n",
    "    plt.grid(True)\n",
    "    \n",
    "    plt.tight_layout()\n",
    "    plt.savefig(os.path.join(output_dir, 'metrics_plot.png'))\n",
    "    plt.close()\n",
    "\n",
    "train_dirs = [\n",
    "    \"/teamspace/studios/this_studio/audio_detect/dataset/split_data/train/real\",\n",
    "    \"/teamspace/studios/this_studio/audio_detect/dataset/split_data/train/fake\"\n",
    "]\n",
    "val_dirs = [\n",
    "    \"/teamspace/studios/this_studio/audio_detect/dataset/split_data/val/real\",\n",
    "    \"/teamspace/studios/this_studio/audio_detect/dataset/split_data/val/fake\"\n",
    "]\n",
    "test_dirs = [\n",
    "    \"/teamspace/studios/this_studio/audio_detect/dataset/split_data/test/real\",\n",
    "    \"/teamspace/studios/this_studio/audio_detect/dataset/split_data/test/fake\"\n",
    "]\n",
    "\n",
    "train_loader, val_loader, test_loader = get_dataloaders(\n",
    "    train_dirs,\n",
    "    val_dirs,\n",
    "    test_dirs,\n",
    "    batch_size=16,\n",
    "    num_workers=8\n",
    ")\n",
    "\n"
   ]
  },
  {
   "cell_type": "code",
   "execution_count": 2,
   "metadata": {},
   "outputs": [
    {
     "data": {
      "application/vnd.jupyter.widget-view+json": {
       "model_id": "aa115cddd2dd484baecede52288ebe86",
       "version_major": 2,
       "version_minor": 0
      },
      "text/plain": [
       "config.json:   0%|          | 0.00/1.84k [00:00<?, ?B/s]"
      ]
     },
     "metadata": {},
     "output_type": "display_data"
    },
    {
     "name": "stderr",
     "output_type": "stream",
     "text": [
      "/home/zeus/miniconda3/envs/cloudspace/lib/python3.10/site-packages/transformers/configuration_utils.py:311: UserWarning: Passing `gradient_checkpointing` to a config initialization is deprecated and will be removed in v5 Transformers. Using `model.gradient_checkpointing_enable()` instead, or if you are using the `Trainer` API, pass `gradient_checkpointing=True` in your `TrainingArguments`.\n",
      "  warnings.warn(\n"
     ]
    },
    {
     "data": {
      "application/vnd.jupyter.widget-view+json": {
       "model_id": "af147ed5f18f4245a0bf83bfa757fd61",
       "version_major": 2,
       "version_minor": 0
      },
      "text/plain": [
       "pytorch_model.bin:   0%|          | 0.00/380M [00:00<?, ?B/s]"
      ]
     },
     "metadata": {},
     "output_type": "display_data"
    },
    {
     "name": "stderr",
     "output_type": "stream",
     "text": [
      "Some weights of Wav2Vec2ForSequenceClassification were not initialized from the model checkpoint at facebook/wav2vec2-base and are newly initialized: ['classifier.bias', 'classifier.weight', 'projector.bias', 'projector.weight']\n",
      "You should probably TRAIN this model on a down-stream task to be able to use it for predictions and inference.\n"
     ]
    },
    {
     "data": {
      "application/vnd.jupyter.widget-view+json": {
       "model_id": "8d43b273e4f542e99d1a3ed6733ff01e",
       "version_major": 2,
       "version_minor": 0
      },
      "text/plain": [
       "model.safetensors:   0%|          | 0.00/380M [00:00<?, ?B/s]"
      ]
     },
     "metadata": {},
     "output_type": "display_data"
    },
    {
     "data": {
      "application/vnd.jupyter.widget-view+json": {
       "model_id": "c8d26f0290a2454c94a3654ad723457e",
       "version_major": 2,
       "version_minor": 0
      },
      "text/plain": [
       "preprocessor_config.json:   0%|          | 0.00/159 [00:00<?, ?B/s]"
      ]
     },
     "metadata": {},
     "output_type": "display_data"
    },
    {
     "data": {
      "application/vnd.jupyter.widget-view+json": {
       "model_id": "87caf849ce6c4414b283d1f187eee038",
       "version_major": 2,
       "version_minor": 0
      },
      "text/plain": [
       "tokenizer_config.json:   0%|          | 0.00/163 [00:00<?, ?B/s]"
      ]
     },
     "metadata": {},
     "output_type": "display_data"
    },
    {
     "data": {
      "application/vnd.jupyter.widget-view+json": {
       "model_id": "e8bb2c67dcbe48a19a82f4f9b56d7281",
       "version_major": 2,
       "version_minor": 0
      },
      "text/plain": [
       "vocab.json:   0%|          | 0.00/291 [00:00<?, ?B/s]"
      ]
     },
     "metadata": {},
     "output_type": "display_data"
    },
    {
     "data": {
      "application/vnd.jupyter.widget-view+json": {
       "model_id": "1392b79596ab441c80f6b27e7bf281ae",
       "version_major": 2,
       "version_minor": 0
      },
      "text/plain": [
       "special_tokens_map.json:   0%|          | 0.00/85.0 [00:00<?, ?B/s]"
      ]
     },
     "metadata": {},
     "output_type": "display_data"
    },
    {
     "name": "stderr",
     "output_type": "stream",
     "text": [
      "Epoch 1/15 [Train]: 100%|██████████| 2001/2001 [06:33<00:00,  5.09it/s, loss=0.0232, acc=0.8267]\n",
      "Epoch 1/15 [Val]: 100%|██████████| 251/251 [00:34<00:00,  7.22it/s, loss=0.0139, acc=0.9075]\n"
     ]
    },
    {
     "name": "stdout",
     "output_type": "stream",
     "text": [
      "Epoch 1: Train Loss: 0.3709, Train Acc: 0.8267, Val Loss: 0.2220, Val Acc: 0.9075, Val F1: 0.9029\n"
     ]
    },
    {
     "name": "stderr",
     "output_type": "stream",
     "text": [
      "Epoch 2/15 [Train]: 100%|██████████| 2001/2001 [06:23<00:00,  5.22it/s, loss=0.0089, acc=0.9429]\n",
      "Epoch 2/15 [Val]: 100%|██████████| 251/251 [00:29<00:00,  8.38it/s, loss=0.0063, acc=0.9643]\n"
     ]
    },
    {
     "name": "stdout",
     "output_type": "stream",
     "text": [
      "Epoch 2: Train Loss: 0.1416, Train Acc: 0.9429, Val Loss: 0.1001, Val Acc: 0.9643, Val F1: 0.9634\n"
     ]
    },
    {
     "name": "stderr",
     "output_type": "stream",
     "text": [
      "Epoch 3/15 [Train]: 100%|██████████| 2001/2001 [06:21<00:00,  5.24it/s, loss=0.0054, acc=0.9656]\n",
      "Epoch 3/15 [Val]: 100%|██████████| 251/251 [00:25<00:00,  9.77it/s, loss=0.0055, acc=0.9650]\n"
     ]
    },
    {
     "name": "stdout",
     "output_type": "stream",
     "text": [
      "Epoch 3: Train Loss: 0.0866, Train Acc: 0.9656, Val Loss: 0.0871, Val Acc: 0.9650, Val F1: 0.9642\n"
     ]
    },
    {
     "name": "stderr",
     "output_type": "stream",
     "text": [
      "Epoch 4/15 [Train]: 100%|██████████| 2001/2001 [06:21<00:00,  5.24it/s, loss=0.0038, acc=0.9759]\n",
      "Epoch 4/15 [Val]: 100%|██████████| 251/251 [00:24<00:00, 10.21it/s, loss=0.0113, acc=0.9423]\n"
     ]
    },
    {
     "name": "stdout",
     "output_type": "stream",
     "text": [
      "Epoch 4: Train Loss: 0.0610, Train Acc: 0.9759, Val Loss: 0.1805, Val Acc: 0.9423, Val F1: 0.9391\n"
     ]
    },
    {
     "name": "stderr",
     "output_type": "stream",
     "text": [
      "Epoch 5/15 [Train]: 100%|██████████| 2001/2001 [06:20<00:00,  5.26it/s, loss=0.0032, acc=0.9807]\n",
      "Epoch 5/15 [Val]: 100%|██████████| 251/251 [00:21<00:00, 11.47it/s, loss=0.0049, acc=0.9755]\n"
     ]
    },
    {
     "name": "stdout",
     "output_type": "stream",
     "text": [
      "Epoch 5: Train Loss: 0.0518, Train Acc: 0.9807, Val Loss: 0.0789, Val Acc: 0.9755, Val F1: 0.9750\n"
     ]
    },
    {
     "name": "stderr",
     "output_type": "stream",
     "text": [
      "Epoch 6/15 [Train]: 100%|██████████| 2001/2001 [06:21<00:00,  5.25it/s, loss=0.0023, acc=0.9861]\n",
      "Epoch 6/15 [Val]: 100%|██████████| 251/251 [00:20<00:00, 12.32it/s, loss=0.0043, acc=0.9738]\n"
     ]
    },
    {
     "name": "stdout",
     "output_type": "stream",
     "text": [
      "Epoch 6: Train Loss: 0.0367, Train Acc: 0.9861, Val Loss: 0.0680, Val Acc: 0.9738, Val F1: 0.9733\n"
     ]
    },
    {
     "name": "stderr",
     "output_type": "stream",
     "text": [
      "Epoch 7/15 [Train]: 100%|██████████| 2001/2001 [06:20<00:00,  5.26it/s, loss=0.0022, acc=0.9870]\n",
      "Epoch 7/15 [Val]: 100%|██████████| 251/251 [00:20<00:00, 12.34it/s, loss=0.0058, acc=0.9758]\n"
     ]
    },
    {
     "name": "stdout",
     "output_type": "stream",
     "text": [
      "Epoch 7: Train Loss: 0.0355, Train Acc: 0.9870, Val Loss: 0.0927, Val Acc: 0.9758, Val F1: 0.9753\n"
     ]
    },
    {
     "name": "stderr",
     "output_type": "stream",
     "text": [
      "Epoch 8/15 [Train]: 100%|██████████| 2001/2001 [06:19<00:00,  5.27it/s, loss=0.0016, acc=0.9908]\n",
      "Epoch 8/15 [Val]: 100%|██████████| 251/251 [00:19<00:00, 13.11it/s, loss=0.0029, acc=0.9833]\n"
     ]
    },
    {
     "name": "stdout",
     "output_type": "stream",
     "text": [
      "Epoch 8: Train Loss: 0.0258, Train Acc: 0.9908, Val Loss: 0.0470, Val Acc: 0.9833, Val F1: 0.9832\n"
     ]
    },
    {
     "name": "stderr",
     "output_type": "stream",
     "text": [
      "Epoch 9/15 [Train]: 100%|██████████| 2001/2001 [06:20<00:00,  5.25it/s, loss=0.0016, acc=0.9912]\n",
      "Epoch 9/15 [Val]: 100%|██████████| 251/251 [00:19<00:00, 13.01it/s, loss=0.0031, acc=0.9818]\n"
     ]
    },
    {
     "name": "stdout",
     "output_type": "stream",
     "text": [
      "Epoch 9: Train Loss: 0.0254, Train Acc: 0.9912, Val Loss: 0.0493, Val Acc: 0.9818, Val F1: 0.9819\n"
     ]
    },
    {
     "name": "stderr",
     "output_type": "stream",
     "text": [
      "Epoch 10/15 [Train]: 100%|██████████| 2001/2001 [06:21<00:00,  5.25it/s, loss=0.0014, acc=0.9923]\n",
      "Epoch 10/15 [Val]: 100%|██████████| 251/251 [00:19<00:00, 13.10it/s, loss=0.0045, acc=0.9795]\n"
     ]
    },
    {
     "name": "stdout",
     "output_type": "stream",
     "text": [
      "Epoch 10: Train Loss: 0.0223, Train Acc: 0.9923, Val Loss: 0.0722, Val Acc: 0.9795, Val F1: 0.9791\n"
     ]
    },
    {
     "name": "stderr",
     "output_type": "stream",
     "text": [
      "Epoch 11/15 [Train]: 100%|██████████| 2001/2001 [06:20<00:00,  5.26it/s, loss=0.0012, acc=0.9931]\n",
      "Epoch 11/15 [Val]: 100%|██████████| 251/251 [00:19<00:00, 13.00it/s, loss=0.0091, acc=0.9733]\n"
     ]
    },
    {
     "name": "stdout",
     "output_type": "stream",
     "text": [
      "Epoch 11: Train Loss: 0.0191, Train Acc: 0.9931, Val Loss: 0.1455, Val Acc: 0.9733, Val F1: 0.9725\n"
     ]
    },
    {
     "name": "stderr",
     "output_type": "stream",
     "text": [
      "Epoch 12/15 [Train]: 100%|██████████| 2001/2001 [06:21<00:00,  5.25it/s, loss=0.0010, acc=0.9943]\n",
      "Epoch 12/15 [Val]: 100%|██████████| 251/251 [00:19<00:00, 12.93it/s, loss=0.0111, acc=0.9623]\n"
     ]
    },
    {
     "name": "stdout",
     "output_type": "stream",
     "text": [
      "Epoch 12: Train Loss: 0.0166, Train Acc: 0.9943, Val Loss: 0.1772, Val Acc: 0.9623, Val F1: 0.9608\n"
     ]
    },
    {
     "name": "stderr",
     "output_type": "stream",
     "text": [
      "Epoch 13/15 [Train]: 100%|██████████| 2001/2001 [06:23<00:00,  5.22it/s, loss=0.0011, acc=0.9944]\n",
      "Epoch 13/15 [Val]: 100%|██████████| 251/251 [00:17<00:00, 14.55it/s, loss=0.0036, acc=0.9863]\n"
     ]
    },
    {
     "name": "stdout",
     "output_type": "stream",
     "text": [
      "Early stopping triggered after 13 epochs.\n"
     ]
    }
   ],
   "source": [
    "model = AudioDeepfakeModel(model_name=\"facebook/wav2vec2-base\", num_labels=2)\n",
    "\n",
    "output_dir = \"saved_model\"\n",
    "os.makedirs(output_dir, exist_ok=True)\n",
    "\n",
    "train_losses, train_accuracies, val_losses, val_accuracies = train_model(\n",
    "    model, train_loader, val_loader, output_dir, num_epochs=15, patience=5, accum_steps=4\n",
    ")\n",
    "\n",
    "plot_metrics(train_losses, train_accuracies, val_losses, val_accuracies, output_dir)"
   ]
  },
  {
   "cell_type": "code",
   "execution_count": null,
   "metadata": {},
   "outputs": [],
   "source": []
  },
  {
   "cell_type": "code",
   "execution_count": null,
   "metadata": {},
   "outputs": [],
   "source": []
  },
  {
   "cell_type": "code",
   "execution_count": null,
   "metadata": {},
   "outputs": [],
   "source": [
    "import os\n",
    "import torch\n",
    "import torchaudio\n",
    "import numpy as np\n",
    "from torch.utils.data import Dataset, DataLoader\n",
    "from pathlib import Path\n",
    "from transformers import Wav2Vec2Processor, Wav2Vec2ForSequenceClassification\n",
    "from sklearn.metrics import confusion_matrix, classification_report\n",
    "from tqdm import tqdm\n",
    "import matplotlib.pyplot as plt\n",
    "import seaborn as sns\n",
    "\n",
    "class AudioDeepfakeDataset(Dataset):\n",
    "    def __init__(self, data_dirs, sample_rate=16000, max_length=4.0):\n",
    "        self.data_dirs = data_dirs\n",
    "        self.sample_rate = sample_rate\n",
    "        self.max_length = max_length\n",
    "        self.max_samples = int(max_length * sample_rate)\n",
    "        \n",
    "        self.audio_files = []\n",
    "        self.labels = []\n",
    "        \n",
    "        for data_dir in data_dirs:\n",
    "            data_dir = Path(data_dir)\n",
    "            label = 0 if 'real' in data_dir.name.lower() else 1\n",
    "            for audio_file in data_dir.glob('*.wav'):\n",
    "                self.audio_files.append(str(audio_file))\n",
    "                self.labels.append(label)\n",
    "        \n",
    "        assert len(self.audio_files) > 0, \"No audio files found in the provided directories.\"\n",
    "    \n",
    "    def __len__(self):\n",
    "        return len(self.audio_files)\n",
    "    \n",
    "    def __getitem__(self, idx):\n",
    "        audio_path = self.audio_files[idx]\n",
    "        label = self.labels[idx]\n",
    "        \n",
    "        waveform, orig_sample_rate = torchaudio.load(audio_path)\n",
    "        \n",
    "        if orig_sample_rate != self.sample_rate:\n",
    "            resampler = torchaudio.transforms.Resample(orig_sample_rate, self.sample_rate)\n",
    "            waveform = resampler(waveform)\n",
    "        \n",
    "        if waveform.shape[0] > 1:\n",
    "            waveform = torch.mean(waveform, dim=0, keepdim=True)\n",
    "        \n",
    "        waveform = (waveform - waveform.mean()) / (waveform.std() + 1e-6)\n",
    "        \n",
    "        num_samples = waveform.shape[1]\n",
    "        if num_samples > self.max_samples:\n",
    "            waveform = waveform[:, :self.max_samples]\n",
    "        elif num_samples < self.max_samples:\n",
    "            padding = torch.zeros(1, self.max_samples - num_samples)\n",
    "            waveform = torch.cat([waveform, padding], dim=1)\n",
    "        \n",
    "        return waveform.squeeze(0), label\n",
    "\n",
    "def collate_fn(batch):\n",
    "    waveforms, labels = zip(*batch)\n",
    "    waveforms = torch.stack([wf for wf in waveforms])\n",
    "    labels = torch.tensor(labels, dtype=torch.long)\n",
    "    return waveforms, labels\n",
    "\n",
    "def get_test_dataloader(test_dirs, batch_size=16, num_workers=8):\n",
    "    test_dataset = AudioDeepfakeDataset(test_dirs)\n",
    "    test_loader = DataLoader(\n",
    "        test_dataset,\n",
    "        batch_size=batch_size,\n",
    "        shuffle=False,\n",
    "        num_workers=num_workers,\n",
    "        collate_fn=collate_fn,\n",
    "        pin_memory=True\n",
    "    )\n",
    "    return test_loader\n",
    "\n",
    "def evaluate_model(model, test_loader, processor, output_dir):\n",
    "    device = torch.device(\"cuda\" if torch.cuda.is_available() else \"cpu\")\n",
    "    model.to(device)\n",
    "    model.eval()\n",
    "    \n",
    "    test_loss, test_correct, test_total = 0, 0, 0\n",
    "    test_preds, test_labels = [], []\n",
    "    \n",
    "    with torch.no_grad():\n",
    "        for batch in tqdm(test_loader, desc=\"Evaluating on Test Data\"):\n",
    "            waveforms, labels = batch\n",
    "            waveforms, labels = waveforms.to(device), labels.to(device)\n",
    "            \n",
    "            outputs = model(waveforms, labels=labels)\n",
    "            loss = outputs.loss\n",
    "            \n",
    "            test_loss += loss.item()\n",
    "            preds = outputs.logits.argmax(dim=-1)\n",
    "            test_correct += (preds == labels).sum().item()\n",
    "            test_total += labels.size(0)\n",
    "            test_preds.extend(preds.cpu().numpy())\n",
    "            test_labels.extend(labels.cpu().numpy())\n",
    "    \n",
    "    test_loss /= len(test_loader)\n",
    "    test_accuracy = test_correct / test_total\n",
    "    \n",
    "    # Compute confusion matrix\n",
    "    cm = confusion_matrix(test_labels, test_preds)\n",
    "    \n",
    "    # Compute classification report\n",
    "    class_report = classification_report(test_labels, test_preds, target_names=[\"Real\", \"Fake\"])\n",
    "    \n",
    "    # Save classification report\n",
    "    with open(os.path.join(output_dir, \"classification_report.txt\"), \"w\") as f:\n",
    "        f.write(class_report)\n",
    "    \n",
    "    print(f\"Test Loss: {test_loss:.4f}, Test Accuracy: {test_accuracy:.4f}\")\n",
    "    print(\"\\nClassification Report:\\n\", class_report)\n",
    "    \n",
    "    return cm, test_labels, test_preds, test_loss, test_accuracy\n",
    "\n",
    "def plot_confusion_matrix(cm, output_dir, class_names=[\"Real\", \"Fake\"]):\n",
    "    plt.figure(figsize=(8, 6))\n",
    "    sns.heatmap(cm, annot=True, fmt=\"d\", cmap=\"Blues\", xticklabels=class_names, yticklabels=class_names)\n",
    "    plt.title(\"Confusion Matrix\")\n",
    "    plt.xlabel(\"Predicted\")\n",
    "    plt.ylabel(\"True\")\n",
    "    plt.tight_layout()\n",
    "    plt.savefig(os.path.join(output_dir, \"confusion_matrix.png\"))\n",
    "    plt.close()\n",
    "\n",
    "def main():\n",
    "    # Define test data directories\n",
    "    test_dirs = [\n",
    "        \"/teamspace/studios/this_studio/audio_detect/dataset/split_data/test/real\",\n",
    "        \"/teamspace/studios/this_studio/audio_detect/dataset/split_data/test/fake\"\n",
    "    ]\n",
    "    "
   ]
  },
  {
   "cell_type": "code",
   "execution_count": 5,
   "metadata": {},
   "outputs": [
    {
     "name": "stderr",
     "output_type": "stream",
     "text": [
      "Evaluating on Test Data: 100%|██████████| 251/251 [00:37<00:00,  6.67it/s]\n"
     ]
    },
    {
     "name": "stdout",
     "output_type": "stream",
     "text": [
      "Test Loss: 0.0743, Test Accuracy: 0.9830\n",
      "\n",
      "Classification Report:\n",
      "               precision    recall  f1-score   support\n",
      "\n",
      "        Real       0.97      0.99      0.98      2001\n",
      "        Fake       0.99      0.97      0.98      2001\n",
      "\n",
      "    accuracy                           0.98      4002\n",
      "   macro avg       0.98      0.98      0.98      4002\n",
      "weighted avg       0.98      0.98      0.98      4002\n",
      "\n"
     ]
    }
   ],
   "source": [
    "    # Output directory\n",
    "    output_dir = \"saved_model\"\n",
    "    os.makedirs(output_dir, exist_ok=True)\n",
    "    \n",
    "    # Load saved model and processor\n",
    "    model = Wav2Vec2ForSequenceClassification.from_pretrained(os.path.join(output_dir, \"best_model\"))\n",
    "    processor = Wav2Vec2Processor.from_pretrained(os.path.join(output_dir, \"best_model\"))\n",
    "    \n",
    "    # Get test data loader\n",
    "    test_loader = get_test_dataloader(test_dirs, batch_size=16, num_workers=8)\n",
    "    \n",
    "    # Evaluate model\n",
    "    cm, test_labels, test_preds, test_loss, test_accuracy = evaluate_model(model, test_loader, processor, output_dir)\n",
    "    \n",
    "    # Plot and save confusion matrix\n",
    "    plot_confusion_matrix(cm, output_dir)"
   ]
  },
  {
   "cell_type": "code",
   "execution_count": null,
   "metadata": {},
   "outputs": [],
   "source": [
    "import torch\n",
    "import torchaudio\n",
    "import numpy as np\n",
    "from transformers import Wav2Vec2Processor, Wav2Vec2ForSequenceClassification\n",
    "\n",
    "def preprocess_audio(audio_path, sample_rate=16000, max_length=4.0):\n",
    "    # Load audio\n",
    "    waveform, orig_sample_rate = torchaudio.load(audio_path)\n",
    "    \n",
    "    # Resample to 16kHz if needed\n",
    "    if orig_sample_rate != sample_rate:\n",
    "        resampler = torchaudio.transforms.Resample(orig_sample_rate, sample_rate)\n",
    "        waveform = resampler(waveform)\n",
    "    \n",
    "    # Convert to mono if stereo\n",
    "    if waveform.shape[0] > 1:\n",
    "        waveform = torch.mean(waveform, dim=0, keepdim=True)\n",
    "    \n",
    "    # Normalize (zero mean, unit variance)\n",
    "    waveform = (waveform - waveform.mean()) / (waveform.std() + 1e-6)\n",
    "    \n",
    "    # Trim or pad to 4 seconds\n",
    "    max_samples = int(max_length * sample_rate)\n",
    "    num_samples = waveform.shape[1]\n",
    "    if num_samples > max_samples:\n",
    "        waveform = waveform[:, :max_samples]\n",
    "    elif num_samples < max_samples:\n",
    "        padding = torch.zeros(1, max_samples - num_samples)\n",
    "        waveform = torch.cat([waveform, padding], dim=1)\n",
    "    \n",
    "    return waveform.squeeze(0)\n",
    "\n",
    "def predict_audio(model, processor, audio_path, device):\n",
    "    # Preprocess audio\n",
    "    waveform = preprocess_audio(audio_path)\n",
    "    \n",
    "    # Move to device and add batch dimension\n",
    "    waveform = waveform.unsqueeze(0).to(device)\n",
    "    \n",
    "    # Get model prediction\n",
    "    model.eval()\n",
    "    with torch.no_grad():\n",
    "        outputs = model(waveform)\n",
    "        logits = outputs.logits\n",
    "        probabilities = torch.softmax(logits, dim=-1)\n",
    "        predicted_label = logits.argmax(dim=-1).item()\n",
    "        confidence = probabilities[0, predicted_label].item()\n",
    "    \n",
    "    return predicted_label, confidence\n",
    "\n",
    "def main():\n",
    "    # Paths\n",
    "    model_path = \"saved_model/best_model\"\n",
    "    audio_path = \"path/to/your/audio_clip.wav\"  # Replace with your audio file path\n",
    "    \n",
    "    # Device\n",
    "    device = torch.device(\"cuda\" if torch.cuda.is_available() else \"cpu\")\n",
    "    \n",
    "    # Load model and processor\n",
    "    model = Wav2Vec2ForSequenceClassification.from_pretrained(model_path).to(device)\n",
    "    processor = Wav2Vec2Processor.from_pretrained(model_path)\n",
    "    \n",
    "    # Predict\n",
    "    label, confidence = predict_audio(model, processor, audio_path, device)\n",
    "    \n",
    "    # Output result\n",
    "    class_name = \"Real\" if label == 0 else \"Fake\"\n",
    "    print(f\"Prediction: {class_name}\")\n",
    "    print(f\"Confidence: {confidence:.4f}\")\n",
    "\n"
   ]
  },
  {
   "cell_type": "code",
   "execution_count": null,
   "metadata": {},
   "outputs": [],
   "source": []
  },
  {
   "cell_type": "code",
   "execution_count": 10,
   "metadata": {},
   "outputs": [
    {
     "name": "stdout",
     "output_type": "stream",
     "text": [
      "Selected Audio File: real_20250503_235443_996155_9964_file31829.wav\n",
      "Prediction: Real\n",
      "Confidence: 0.9999\n"
     ]
    }
   ],
   "source": [
    "import os\n",
    "import torch\n",
    "import torchaudio\n",
    "import numpy as np\n",
    "import glob\n",
    "import random\n",
    "from transformers import Wav2Vec2Processor, Wav2Vec2ForSequenceClassification\n",
    "\n",
    "def preprocess_audio(audio_path, sample_rate=16000, max_length=4.0):\n",
    "    waveform, orig_sample_rate = torchaudio.load(audio_path)\n",
    "    if orig_sample_rate != sample_rate:\n",
    "        resampler = torchaudio.transforms.Resample(orig_sample_rate, sample_rate)\n",
    "        waveform = resampler(waveform)\n",
    "    if waveform.shape[0] > 1:\n",
    "        waveform = torch.mean(waveform, dim=0, keepdim=True)\n",
    "    waveform = (waveform - waveform.mean()) / (waveform.std() + 1e-6)\n",
    "    max_samples = int(max_length * sample_rate)\n",
    "    num_samples = waveform.shape[1]\n",
    "    if num_samples > max_samples:\n",
    "        waveform = waveform[:, :max_samples]\n",
    "    elif num_samples < max_samples:\n",
    "        padding = torch.zeros(1, max_samples - num_samples)\n",
    "        waveform = torch.cat([waveform, padding], dim=1)\n",
    "    return waveform.squeeze(0)\n",
    "\n",
    "def predict_audio(model, processor, audio_path, device):\n",
    "    waveform = preprocess_audio(audio_path)\n",
    "    waveform = waveform.unsqueeze(0).to(device)\n",
    "    model.eval()\n",
    "    with torch.no_grad():\n",
    "        outputs = model(waveform)\n",
    "        logits = outputs.logits\n",
    "        probabilities = torch.softmax(logits, dim=-1)\n",
    "        predicted_label = logits.argmax(dim=-1).item()\n",
    "        confidence = probabilities[0, predicted_label].item()\n",
    "    return predicted_label, confidence\n",
    "\n",
    "def main():\n",
    "    model_path = \"saved_model/best_model\"\n",
    "    real_dir = \"/teamspace/studios/this_studio/audio_detect/dataset/merged_data/real\"\n",
    "    real_files = glob.glob(os.path.join(real_dir, \"*.wav\"))\n",
    "    \n",
    "    if not real_files:\n",
    "        print(\"No .wav files found in the real directory.\")\n",
    "        return\n",
    "    \n",
    "    audio_path = random.choice(real_files)\n",
    "    file_name = os.path.basename(audio_path)\n",
    "    \n",
    "    device = torch.device(\"cuda\" if torch.cuda.is_available() else \"cpu\")\n",
    "    model = Wav2Vec2ForSequenceClassification.from_pretrained(model_path).to(device)\n",
    "    processor = Wav2Vec2Processor.from_pretrained(model_path)\n",
    "    \n",
    "    label, confidence = predict_audio(model, processor, audio_path, device)\n",
    "    \n",
    "    class_name = \"Real\" if label == 0 else \"Fake\"\n",
    "    print(f\"Selected Audio File: {file_name}\")\n",
    "    print(f\"Prediction: {class_name}\")\n",
    "    print(f\"Confidence: {confidence:.4f}\")\n",
    "\n",
    "if __name__ == \"__main__\":\n",
    "    main()"
   ]
  },
  {
   "cell_type": "code",
   "execution_count": null,
   "metadata": {},
   "outputs": [],
   "source": []
  },
  {
   "cell_type": "code",
   "execution_count": 2,
   "metadata": {},
   "outputs": [
    {
     "name": "stdout",
     "output_type": "stream",
     "text": [
      "Selected Audio File: fake_20250503_234905_944772_2089_C_31439_05_D.wav\n",
      "Prediction: Fake\n",
      "Confidence: 0.9999\n"
     ]
    }
   ],
   "source": [
    "import os\n",
    "import torch\n",
    "import torchaudio\n",
    "import numpy as np\n",
    "import glob\n",
    "import random\n",
    "from transformers import Wav2Vec2Processor, Wav2Vec2ForSequenceClassification\n",
    "\n",
    "def preprocess_audio(audio_path, sample_rate=16000, max_length=4.0):\n",
    "    waveform, orig_sample_rate = torchaudio.load(audio_path)\n",
    "    if orig_sample_rate != sample_rate:\n",
    "        resampler = torchaudio.transforms.Resample(orig_sample_rate, sample_rate)\n",
    "        waveform = resampler(waveform)\n",
    "    if waveform.shape[0] > 1:\n",
    "        waveform = torch.mean(waveform, dim=0, keepdim=True)\n",
    "    waveform = (waveform - waveform.mean()) / (waveform.std() + 1e-6)\n",
    "    max_samples = int(max_length * sample_rate)\n",
    "    num_samples = waveform.shape[1]\n",
    "    if num_samples > max_samples:\n",
    "        waveform = waveform[:, :max_samples]\n",
    "    elif num_samples < max_samples:\n",
    "        padding = torch.zeros(1, max_samples - num_samples)\n",
    "        waveform = torch.cat([waveform, padding], dim=1)\n",
    "    return waveform.squeeze(0)\n",
    "\n",
    "def predict_audio(model, processor, audio_path, device):\n",
    "    waveform = preprocess_audio(audio_path)\n",
    "    waveform = waveform.unsqueeze(0).to(device)\n",
    "    model.eval()\n",
    "    with torch.no_grad():\n",
    "        outputs = model(waveform)\n",
    "        logits = outputs.logits\n",
    "        probabilities = torch.softmax(logits, dim=-1)\n",
    "        predicted_label = logits.argmax(dim=-1).item()\n",
    "        confidence = probabilities[0, predicted_label].item()\n",
    "    return predicted_label, confidence\n",
    "\n",
    "def main():\n",
    "    model_path = \"saved_model/best_model\"\n",
    "    fake_dir = \"/teamspace/studios/this_studio/audio_detect/dataset/merged_data/fake\"\n",
    "    fake_files = glob.glob(os.path.join(fake_dir, \"*.wav\"))\n",
    "    \n",
    "    if not fake_files:\n",
    "        print(\"No .wav files found in the fake directory.\")\n",
    "        return\n",
    "    \n",
    "    audio_path = random.choice(fake_files)\n",
    "    file_name = os.path.basename(audio_path)\n",
    "    \n",
    "    device = torch.device(\"cuda\" if torch.cuda.is_available() else \"cpu\")\n",
    "    model = Wav2Vec2ForSequenceClassification.from_pretrained(model_path).to(device)\n",
    "    processor = Wav2Vec2Processor.from_pretrained(model_path)\n",
    "    \n",
    "    label, confidence = predict_audio(model, processor, audio_path, device)\n",
    "    \n",
    "    class_name = \"Real\" if label == 0 else \"Fake\"\n",
    "    print(f\"Selected Audio File: {file_name}\")\n",
    "    print(f\"Prediction: {class_name}\")\n",
    "    print(f\"Confidence: {confidence:.4f}\")\n",
    "\n",
    "if __name__ == \"__main__\":\n",
    "    main()"
   ]
  },
  {
   "cell_type": "code",
   "execution_count": 1,
   "metadata": {},
   "outputs": [],
   "source": [
    "import os\n",
    "import zipfile\n",
    "\n",
    "def zip_folder(folder_path, output_path):\n",
    "    with zipfile.ZipFile(output_path, 'w', zipfile.ZIP_DEFLATED) as zipf:\n",
    "        for root, dirs, files in os.walk(folder_path):\n",
    "            for file in files:\n",
    "                file_path = os.path.join(root, file)\n",
    "                arcname = os.path.relpath(file_path, start=folder_path)\n",
    "                zipf.write(file_path, arcname)\n",
    "\n",
    "# Paths\n",
    "folder_to_zip = '/teamspace/studios/this_studio/audio_detect/model_trainging'\n",
    "output_zip = '/teamspace/studios/this_studio/audio_detect/model_trainging.zip'\n",
    "\n",
    "zip_folder(folder_to_zip, output_zip)\n"
   ]
  },
  {
   "cell_type": "code",
   "execution_count": null,
   "metadata": {},
   "outputs": [],
   "source": []
  }
 ],
 "metadata": {
  "language_info": {
   "name": "python"
  }
 },
 "nbformat": 4,
 "nbformat_minor": 2
}
